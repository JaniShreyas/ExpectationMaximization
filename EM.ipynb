{
 "cells": [
  {
   "cell_type": "code",
   "execution_count": 1,
   "metadata": {},
   "outputs": [],
   "source": [
    "from sklearn.datasets import load_iris\n",
    "from sklearn.cluster import KMeans\n",
    "from sklearn.model_selection import train_test_split\n",
    "import numpy as np\n",
    "import random as rd"
   ]
  },
  {
   "cell_type": "markdown",
   "metadata": {},
   "source": [
    "First need to create k Gaussians for a mixture"
   ]
  },
  {
   "cell_type": "code",
   "execution_count": 2,
   "metadata": {},
   "outputs": [
    {
     "data": {
      "text/plain": [
       "((112, 2), (112, 1))"
      ]
     },
     "execution_count": 2,
     "metadata": {},
     "output_type": "execute_result"
    }
   ],
   "source": [
    "# The book suggested first running k means a few times and then using that as those as the Gaussians\n",
    "\n",
    "iris = load_iris()\n",
    "data = iris.data\n",
    "target = iris.target\n",
    "\n",
    "XFull = data[:, 1:3]\n",
    "XTrain, XTest, yTrain, yTest = train_test_split(XFull, target)\n",
    "\n",
    "yTrain = yTrain.reshape(-1,1)\n",
    "yTest = yTest.reshape(-1,1)\n",
    "XTrain.shape, yTrain.shape"
   ]
  },
  {
   "cell_type": "code",
   "execution_count": 3,
   "metadata": {},
   "outputs": [
    {
     "name": "stderr",
     "output_type": "stream",
     "text": [
      "c:\\Users\\unova\\anaconda3\\envs\\nb\\Lib\\site-packages\\sklearn\\cluster\\_kmeans.py:1416: FutureWarning: The default value of `n_init` will change from 10 to 'auto' in 1.4. Set the value of `n_init` explicitly to suppress the warning\n",
      "  super()._check_params_vs_input(X, default_n_init=10)\n"
     ]
    },
    {
     "name": "stdout",
     "output_type": "stream",
     "text": [
      "52\n",
      "38\n",
      "22\n"
     ]
    }
   ],
   "source": [
    "k = 3\n",
    "maxIter = 5\n",
    "kmeans = KMeans(n_clusters = k, max_iter = maxIter)\n",
    "kmeans.fit(XTrain, yTrain)\n",
    "\n",
    "pointsInEachCluster = [XTrain[kmeans.labels_ == i] for i in range(k)]\n",
    "print(len(pointsInEachCluster[0]))\n",
    "print(len(pointsInEachCluster[1]))\n",
    "print(len(pointsInEachCluster[2]))"
   ]
  },
  {
   "cell_type": "code",
   "execution_count": 4,
   "metadata": {},
   "outputs": [
    {
     "data": {
      "text/plain": [
       "(array([2.81346154, 4.49230769]),\n",
       " array([[0.09059955, 0.06598793],\n",
       "        [0.06598793, 0.21562594]]))"
      ]
     },
     "execution_count": 4,
     "metadata": {},
     "output_type": "execute_result"
    }
   ],
   "source": [
    "centers = kmeans.cluster_centers_\n",
    "means = []\n",
    "covMats = []\n",
    "for i in range(len(pointsInEachCluster)):\n",
    "    points = pointsInEachCluster[i]\n",
    "    means.append(centers[i])\n",
    "    covMat = np.cov(points.T)\n",
    "    covMats.append(covMat)\n",
    "\n",
    "means[0], covMats[0]"
   ]
  },
  {
   "cell_type": "code",
   "execution_count": 5,
   "metadata": {},
   "outputs": [],
   "source": [
    "prior = 1 / len(means)"
   ]
  },
  {
   "cell_type": "code",
   "execution_count": 29,
   "metadata": {},
   "outputs": [
    {
     "data": {
      "text/plain": [
       "array([2.76359728, 4.80704301])"
      ]
     },
     "execution_count": 29,
     "metadata": {},
     "output_type": "execute_result"
    }
   ],
   "source": [
    "dist = np.random.multivariate_normal(means[0], covMats[0])\n",
    "dist"
   ]
  },
  {
   "cell_type": "code",
   "execution_count": null,
   "metadata": {},
   "outputs": [],
   "source": [
    "# I need take the current values of means, covariance and priors and calculate the h_ti\n",
    "\n",
    "# h_ti is the posterior probability of the ith data point belonging to the ith cluster for the t_th data point given the point\n",
    "# and the previous values of the means, covariance and priors\n",
    "\n",
    "# so just a normal distribution with the mean and covariance of the cluster"
   ]
  }
 ],
 "metadata": {
  "kernelspec": {
   "display_name": "nb",
   "language": "python",
   "name": "python3"
  },
  "language_info": {
   "codemirror_mode": {
    "name": "ipython",
    "version": 3
   },
   "file_extension": ".py",
   "mimetype": "text/x-python",
   "name": "python",
   "nbconvert_exporter": "python",
   "pygments_lexer": "ipython3",
   "version": "3.11.5"
  }
 },
 "nbformat": 4,
 "nbformat_minor": 2
}
